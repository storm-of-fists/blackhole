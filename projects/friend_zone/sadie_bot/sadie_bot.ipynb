{
 "cells": [
  {
   "cell_type": "code",
   "execution_count": 75,
   "id": "85b3f15c-c173-41b1-b9c7-70c9ee3e5eb1",
   "metadata": {
    "scrolled": true
   },
   "outputs": [
    {
     "name": "stderr",
     "output_type": "stream",
     "text": [
      "[2023-12-31 22:13:42] [INFO    ] discord.client: logging in using static token\n",
      "[2023-12-31 22:13:42] [INFO    ] discord.client: logging in using static token\n",
      "[2023-12-31 22:13:42] [INFO    ] discord.client: logging in using static token\n",
      "[2023-12-31 22:13:42] [INFO    ] discord.client: logging in using static token\n",
      "[2023-12-31 22:13:42] [INFO    ] discord.client: logging in using static token\n",
      "[2023-12-31 22:13:43] [INFO    ] discord.gateway: Shard ID None has connected to Gateway (Session ID: 639686814f976faffc590437a38a828d).\n",
      "[2023-12-31 22:13:43] [INFO    ] discord.gateway: Shard ID None has connected to Gateway (Session ID: 639686814f976faffc590437a38a828d).\n",
      "[2023-12-31 22:13:43] [INFO    ] discord.gateway: Shard ID None has connected to Gateway (Session ID: 639686814f976faffc590437a38a828d).\n",
      "[2023-12-31 22:13:43] [INFO    ] discord.gateway: Shard ID None has connected to Gateway (Session ID: 639686814f976faffc590437a38a828d).\n",
      "[2023-12-31 22:13:43] [INFO    ] discord.gateway: Shard ID None has connected to Gateway (Session ID: 639686814f976faffc590437a38a828d).\n"
     ]
    },
    {
     "name": "stdout",
     "output_type": "stream",
     "text": [
      "Logged on as SadieBot#4932!\n"
     ]
    },
    {
     "name": "stderr",
     "output_type": "stream",
     "text": [
      "[2023-12-31 22:14:33] [WARNING ] discord.gateway: Shard ID None has stopped responding to the gateway. Closing and restarting.\n",
      "[2023-12-31 22:14:33] [WARNING ] discord.gateway: Shard ID None has stopped responding to the gateway. Closing and restarting.\n",
      "[2023-12-31 22:14:33] [WARNING ] discord.gateway: Shard ID None has stopped responding to the gateway. Closing and restarting.\n",
      "[2023-12-31 22:14:33] [WARNING ] discord.gateway: Shard ID None has stopped responding to the gateway. Closing and restarting.\n",
      "[2023-12-31 22:14:33] [WARNING ] discord.gateway: Shard ID None has stopped responding to the gateway. Closing and restarting.\n"
     ]
    },
    {
     "ename": "CancelledError",
     "evalue": "",
     "output_type": "error",
     "traceback": [
      "\u001b[0;31m---------------------------------------------------------------------------\u001b[0m",
      "\u001b[0;31mCancelledError\u001b[0m                            Traceback (most recent call last)",
      "Cell \u001b[0;32mIn[75], line 8\u001b[0m\n\u001b[1;32m      5\u001b[0m importlib\u001b[38;5;241m.\u001b[39mreload(sadie_bot)\n\u001b[1;32m      6\u001b[0m \u001b[38;5;28;01mimport\u001b[39;00m \u001b[38;5;21;01msadie_bot\u001b[39;00m\n\u001b[0;32m----> 8\u001b[0m \u001b[38;5;28;01mawait\u001b[39;00m sadie_bot\u001b[38;5;241m.\u001b[39mstart_client()\n",
      "File \u001b[0;32m~/code/blackhole/projects/friend_zone/sadie_bot/sadie_bot.py:31\u001b[0m, in \u001b[0;36mstart_client\u001b[0;34m()\u001b[0m\n\u001b[1;32m     30\u001b[0m \u001b[38;5;28;01masync\u001b[39;00m \u001b[38;5;28;01mdef\u001b[39;00m \u001b[38;5;21mstart_client\u001b[39m():\n\u001b[0;32m---> 31\u001b[0m     \u001b[38;5;28;01mawait\u001b[39;00m CLIENT\u001b[38;5;241m.\u001b[39mstart(TOKEN)\n",
      "File \u001b[0;32m~/code/blackhole/.venv/lib64/python3.9/site-packages/discord/client.py:778\u001b[0m, in \u001b[0;36mClient.start\u001b[0;34m(self, token, reconnect)\u001b[0m\n\u001b[1;32m    757\u001b[0m \u001b[38;5;250m\u001b[39m\u001b[38;5;124;03m\"\"\"|coro|\u001b[39;00m\n\u001b[1;32m    758\u001b[0m \n\u001b[1;32m    759\u001b[0m \u001b[38;5;124;03mA shorthand coroutine for :meth:`login` + :meth:`connect`.\u001b[39;00m\n\u001b[0;32m   (...)\u001b[0m\n\u001b[1;32m    775\u001b[0m \u001b[38;5;124;03m    An unexpected keyword argument was received.\u001b[39;00m\n\u001b[1;32m    776\u001b[0m \u001b[38;5;124;03m\"\"\"\u001b[39;00m\n\u001b[1;32m    777\u001b[0m \u001b[38;5;28;01mawait\u001b[39;00m \u001b[38;5;28mself\u001b[39m\u001b[38;5;241m.\u001b[39mlogin(token)\n\u001b[0;32m--> 778\u001b[0m \u001b[38;5;28;01mawait\u001b[39;00m \u001b[38;5;28mself\u001b[39m\u001b[38;5;241m.\u001b[39mconnect(reconnect\u001b[38;5;241m=\u001b[39mreconnect)\n",
      "File \u001b[0;32m~/code/blackhole/.venv/lib64/python3.9/site-packages/discord/client.py:659\u001b[0m, in \u001b[0;36mClient.connect\u001b[0;34m(self, reconnect)\u001b[0m\n\u001b[1;32m    657\u001b[0m     ws_params[\u001b[38;5;124m'\u001b[39m\u001b[38;5;124minitial\u001b[39m\u001b[38;5;124m'\u001b[39m] \u001b[38;5;241m=\u001b[39m \u001b[38;5;28;01mFalse\u001b[39;00m\n\u001b[1;32m    658\u001b[0m     \u001b[38;5;28;01mwhile\u001b[39;00m \u001b[38;5;28;01mTrue\u001b[39;00m:\n\u001b[0;32m--> 659\u001b[0m         \u001b[38;5;28;01mawait\u001b[39;00m \u001b[38;5;28mself\u001b[39m\u001b[38;5;241m.\u001b[39mws\u001b[38;5;241m.\u001b[39mpoll_event()\n\u001b[1;32m    660\u001b[0m \u001b[38;5;28;01mexcept\u001b[39;00m ReconnectWebSocket \u001b[38;5;28;01mas\u001b[39;00m e:\n\u001b[1;32m    661\u001b[0m     _log\u001b[38;5;241m.\u001b[39mdebug(\u001b[38;5;124m'\u001b[39m\u001b[38;5;124mGot a request to \u001b[39m\u001b[38;5;132;01m%s\u001b[39;00m\u001b[38;5;124m the websocket.\u001b[39m\u001b[38;5;124m'\u001b[39m, e\u001b[38;5;241m.\u001b[39mop)\n",
      "File \u001b[0;32m~/code/blackhole/.venv/lib64/python3.9/site-packages/discord/gateway.py:619\u001b[0m, in \u001b[0;36mDiscordWebSocket.poll_event\u001b[0;34m(self)\u001b[0m\n\u001b[1;32m    611\u001b[0m \u001b[38;5;250m\u001b[39m\u001b[38;5;124;03m\"\"\"Polls for a DISPATCH event and handles the general gateway loop.\u001b[39;00m\n\u001b[1;32m    612\u001b[0m \n\u001b[1;32m    613\u001b[0m \u001b[38;5;124;03mRaises\u001b[39;00m\n\u001b[0;32m   (...)\u001b[0m\n\u001b[1;32m    616\u001b[0m \u001b[38;5;124;03m    The websocket connection was terminated for unhandled reasons.\u001b[39;00m\n\u001b[1;32m    617\u001b[0m \u001b[38;5;124;03m\"\"\"\u001b[39;00m\n\u001b[1;32m    618\u001b[0m \u001b[38;5;28;01mtry\u001b[39;00m:\n\u001b[0;32m--> 619\u001b[0m     msg \u001b[38;5;241m=\u001b[39m \u001b[38;5;28;01mawait\u001b[39;00m \u001b[38;5;28mself\u001b[39m\u001b[38;5;241m.\u001b[39msocket\u001b[38;5;241m.\u001b[39mreceive(timeout\u001b[38;5;241m=\u001b[39m\u001b[38;5;28mself\u001b[39m\u001b[38;5;241m.\u001b[39m_max_heartbeat_timeout)\n\u001b[1;32m    620\u001b[0m     \u001b[38;5;28;01mif\u001b[39;00m msg\u001b[38;5;241m.\u001b[39mtype \u001b[38;5;129;01mis\u001b[39;00m aiohttp\u001b[38;5;241m.\u001b[39mWSMsgType\u001b[38;5;241m.\u001b[39mTEXT:\n\u001b[1;32m    621\u001b[0m         \u001b[38;5;28;01mawait\u001b[39;00m \u001b[38;5;28mself\u001b[39m\u001b[38;5;241m.\u001b[39mreceived_message(msg\u001b[38;5;241m.\u001b[39mdata)\n",
      "File \u001b[0;32m~/code/blackhole/.venv/lib64/python3.9/site-packages/aiohttp/client_ws.py:244\u001b[0m, in \u001b[0;36mClientWebSocketResponse.receive\u001b[0;34m(self, timeout)\u001b[0m\n\u001b[1;32m    242\u001b[0m \u001b[38;5;28;01mtry\u001b[39;00m:\n\u001b[1;32m    243\u001b[0m     \u001b[38;5;28;01masync\u001b[39;00m \u001b[38;5;28;01mwith\u001b[39;00m async_timeout\u001b[38;5;241m.\u001b[39mtimeout(timeout \u001b[38;5;129;01mor\u001b[39;00m \u001b[38;5;28mself\u001b[39m\u001b[38;5;241m.\u001b[39m_receive_timeout):\n\u001b[0;32m--> 244\u001b[0m         msg \u001b[38;5;241m=\u001b[39m \u001b[38;5;28;01mawait\u001b[39;00m \u001b[38;5;28mself\u001b[39m\u001b[38;5;241m.\u001b[39m_reader\u001b[38;5;241m.\u001b[39mread()\n\u001b[1;32m    245\u001b[0m     \u001b[38;5;28mself\u001b[39m\u001b[38;5;241m.\u001b[39m_reset_heartbeat()\n\u001b[1;32m    246\u001b[0m \u001b[38;5;28;01mfinally\u001b[39;00m:\n",
      "File \u001b[0;32m~/code/blackhole/.venv/lib64/python3.9/site-packages/aiohttp/streams.py:663\u001b[0m, in \u001b[0;36mFlowControlDataQueue.read\u001b[0;34m(self)\u001b[0m\n\u001b[1;32m    661\u001b[0m \u001b[38;5;28;01masync\u001b[39;00m \u001b[38;5;28;01mdef\u001b[39;00m \u001b[38;5;21mread\u001b[39m(\u001b[38;5;28mself\u001b[39m) \u001b[38;5;241m-\u001b[39m\u001b[38;5;241m>\u001b[39m _T:\n\u001b[1;32m    662\u001b[0m     \u001b[38;5;28;01mtry\u001b[39;00m:\n\u001b[0;32m--> 663\u001b[0m         \u001b[38;5;28;01mreturn\u001b[39;00m \u001b[38;5;28;01mawait\u001b[39;00m \u001b[38;5;28msuper\u001b[39m()\u001b[38;5;241m.\u001b[39mread()\n\u001b[1;32m    664\u001b[0m     \u001b[38;5;28;01mfinally\u001b[39;00m:\n\u001b[1;32m    665\u001b[0m         \u001b[38;5;28;01mif\u001b[39;00m \u001b[38;5;28mself\u001b[39m\u001b[38;5;241m.\u001b[39m_size \u001b[38;5;241m<\u001b[39m \u001b[38;5;28mself\u001b[39m\u001b[38;5;241m.\u001b[39m_limit \u001b[38;5;129;01mand\u001b[39;00m \u001b[38;5;28mself\u001b[39m\u001b[38;5;241m.\u001b[39m_protocol\u001b[38;5;241m.\u001b[39m_reading_paused:\n",
      "File \u001b[0;32m~/code/blackhole/.venv/lib64/python3.9/site-packages/aiohttp/streams.py:622\u001b[0m, in \u001b[0;36mDataQueue.read\u001b[0;34m(self)\u001b[0m\n\u001b[1;32m    620\u001b[0m \u001b[38;5;28mself\u001b[39m\u001b[38;5;241m.\u001b[39m_waiter \u001b[38;5;241m=\u001b[39m \u001b[38;5;28mself\u001b[39m\u001b[38;5;241m.\u001b[39m_loop\u001b[38;5;241m.\u001b[39mcreate_future()\n\u001b[1;32m    621\u001b[0m \u001b[38;5;28;01mtry\u001b[39;00m:\n\u001b[0;32m--> 622\u001b[0m     \u001b[38;5;28;01mawait\u001b[39;00m \u001b[38;5;28mself\u001b[39m\u001b[38;5;241m.\u001b[39m_waiter\n\u001b[1;32m    623\u001b[0m \u001b[38;5;28;01mexcept\u001b[39;00m (asyncio\u001b[38;5;241m.\u001b[39mCancelledError, asyncio\u001b[38;5;241m.\u001b[39mTimeoutError):\n\u001b[1;32m    624\u001b[0m     \u001b[38;5;28mself\u001b[39m\u001b[38;5;241m.\u001b[39m_waiter \u001b[38;5;241m=\u001b[39m \u001b[38;5;28;01mNone\u001b[39;00m\n",
      "\u001b[0;31mCancelledError\u001b[0m: "
     ]
    },
    {
     "name": "stderr",
     "output_type": "stream",
     "text": [
      "[2023-12-31 22:31:35] [WARNING ] discord.gateway: Shard ID None has stopped responding to the gateway. Closing and restarting.\n",
      "[2023-12-31 22:31:35] [WARNING ] discord.gateway: Shard ID None has stopped responding to the gateway. Closing and restarting.\n",
      "[2023-12-31 22:31:35] [WARNING ] discord.gateway: Shard ID None has stopped responding to the gateway. Closing and restarting.\n",
      "[2023-12-31 22:31:35] [WARNING ] discord.gateway: Shard ID None has stopped responding to the gateway. Closing and restarting.\n",
      "[2023-12-31 22:31:35] [WARNING ] discord.gateway: Shard ID None has stopped responding to the gateway. Closing and restarting.\n"
     ]
    }
   ],
   "source": [
    "import discord\n",
    "import re\n",
    "import importlib\n",
    "\n",
    "importlib.reload(sadie_bot)\n",
    "import sadie_bot"
   ]
  }
 ],
 "metadata": {
  "kernelspec": {
   "display_name": "Python 3 (ipykernel)",
   "language": "python",
   "name": "python3"
  },
  "language_info": {
   "codemirror_mode": {
    "name": "ipython",
    "version": 3
   },
   "file_extension": ".py",
   "mimetype": "text/x-python",
   "name": "python",
   "nbconvert_exporter": "python",
   "pygments_lexer": "ipython3",
   "version": "3.9.17"
  }
 },
 "nbformat": 4,
 "nbformat_minor": 5
}
