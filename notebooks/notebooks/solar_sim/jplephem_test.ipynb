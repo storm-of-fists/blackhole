{
 "cells": [
  {
   "cell_type": "code",
   "execution_count": 2,
   "metadata": {},
   "outputs": [],
   "source": [
    "from jplephem.spk import SPK\n",
    "from astropy.time import Time\n",
    "from matplotlib import pyplot as plt\n",
    "import numpy as np\n",
    "import solar_sim.sim.const as sim_const\n"
   ]
  },
  {
   "cell_type": "code",
   "execution_count": 3,
   "metadata": {},
   "outputs": [
    {
     "ename": "FileNotFoundError",
     "evalue": "[Errno 2] No such file or directory: '/home/connor/.cache/bazel/_bazel_connor/6dc074f66a3f85905c6f2967ca743f38/execroot/my_workspace/bazel-out/k8-fastbuild/bin/py_notebooks/jupyter.runfiles/my_workspace/solar_sim/instantiation_data/de440.bsp'",
     "output_type": "error",
     "traceback": [
      "\u001b[0;31m---------------------------------------------------------------------------\u001b[0m",
      "\u001b[0;31mFileNotFoundError\u001b[0m                         Traceback (most recent call last)",
      "Cell \u001b[0;32mIn[3], line 1\u001b[0m\n\u001b[0;32m----> 1\u001b[0m kernel \u001b[38;5;241m=\u001b[39m \u001b[43msim_const\u001b[49m\u001b[38;5;241;43m.\u001b[39;49m\u001b[43meph_data\u001b[49m\u001b[43m(\u001b[49m\u001b[43m)\u001b[49m\n\u001b[1;32m      2\u001b[0m time \u001b[38;5;241m=\u001b[39m Time(\u001b[38;5;124m\"\u001b[39m\u001b[38;5;124m2021-07-30 00:00\u001b[39m\u001b[38;5;124m\"\u001b[39m)\n\u001b[1;32m      3\u001b[0m time2 \u001b[38;5;241m=\u001b[39m Time(\u001b[38;5;124m\"\u001b[39m\u001b[38;5;124m2021-07-30 00:00\u001b[39m\u001b[38;5;124m\"\u001b[39m)\u001b[38;5;241m.\u001b[39mjd\n",
      "File \u001b[0;32m~/code/blackhole/bazel-bin/py_notebooks/jupyter.runfiles/my_workspace/solar_sim/sim/const.py:11\u001b[0m, in \u001b[0;36meph_data\u001b[0;34m()\u001b[0m\n\u001b[1;32m     10\u001b[0m \u001b[38;5;28;01mdef\u001b[39;00m \u001b[38;5;21meph_data\u001b[39m():\n\u001b[0;32m---> 11\u001b[0m     \u001b[38;5;28;01mreturn\u001b[39;00m \u001b[43mSPK\u001b[49m\u001b[38;5;241;43m.\u001b[39;49m\u001b[43mopen\u001b[49m\u001b[43m(\u001b[49m\u001b[43mEPHEMERIS_PATH\u001b[49m\u001b[43m)\u001b[49m\n",
      "File \u001b[0;32m~/code/blackhole/bazel-bin/py_notebooks/jupyter.runfiles/third_party_python_jplephem/site-packages/jplephem/spk.py:49\u001b[0m, in \u001b[0;36mSPK.open\u001b[0;34m(cls, path)\u001b[0m\n\u001b[1;32m     46\u001b[0m \u001b[38;5;129m@classmethod\u001b[39m\n\u001b[1;32m     47\u001b[0m \u001b[38;5;28;01mdef\u001b[39;00m \u001b[38;5;21mopen\u001b[39m(\u001b[38;5;28mcls\u001b[39m, path):\n\u001b[1;32m     48\u001b[0m \u001b[38;5;250m    \u001b[39m\u001b[38;5;124;03m\"\"\"Open the file at `path` and return an SPK instance.\"\"\"\u001b[39;00m\n\u001b[0;32m---> 49\u001b[0m     \u001b[38;5;28;01mreturn\u001b[39;00m \u001b[38;5;28mcls\u001b[39m(DAF(\u001b[38;5;28;43mopen\u001b[39;49m\u001b[43m(\u001b[49m\u001b[43mpath\u001b[49m\u001b[43m,\u001b[49m\u001b[43m \u001b[49m\u001b[38;5;124;43m'\u001b[39;49m\u001b[38;5;124;43mrb\u001b[39;49m\u001b[38;5;124;43m'\u001b[39;49m\u001b[43m)\u001b[49m))\n",
      "\u001b[0;31mFileNotFoundError\u001b[0m: [Errno 2] No such file or directory: '/home/connor/.cache/bazel/_bazel_connor/6dc074f66a3f85905c6f2967ca743f38/execroot/my_workspace/bazel-out/k8-fastbuild/bin/py_notebooks/jupyter.runfiles/my_workspace/solar_sim/instantiation_data/de440.bsp'"
     ]
    }
   ],
   "source": [
    "kernel = sim_const.eph_data()\n",
    "time = Time(\"2021-07-30 00:00\")\n",
    "time2 = Time(\"2021-07-30 00:00\").jd\n",
    "print(time2)\n",
    "position, velocity = kernel[0, 3].compute_and_differentiate(time.jd)\n",
    "pos = position*1000\n",
    "print(position*1000)\n",
    "print(np.linalg.norm(velocity*1000/(24*3600)))\n",
    "# print(solar_system_ephemeris.bodies)\n",
    "time.jd\n",
    "# pos = get_body_barycentric('earth', time)\n"
   ]
  },
  {
   "cell_type": "code",
   "execution_count": 82,
   "metadata": {},
   "outputs": [],
   "source": [
    "t_i = Time(\"2020-07-30 00:00\").jd\n",
    "times = [t_i]\n",
    "t_step = (1e4)/(24*3600)\n",
    "t_n = t_i\n",
    "while t_n < t_i + 365:\n",
    "    t_n += t_step\n",
    "    times.append(t_n)"
   ]
  },
  {
   "cell_type": "code",
   "execution_count": 90,
   "metadata": {},
   "outputs": [],
   "source": [
    "earth_pos = [kernel[0, 3].compute(time)*1000 for time in times]\n",
    "# print(earth_pos)\n",
    "x = [p[0] for p in earth_pos]\n",
    "y = [p[1] for p in earth_pos]"
   ]
  }
 ],
 "metadata": {
  "kernelspec": {
   "display_name": "Python 3 (ipykernel)",
   "language": "python",
   "name": "python3"
  },
  "language_info": {
   "codemirror_mode": {
    "name": "ipython",
    "version": 3
   },
   "file_extension": ".py",
   "mimetype": "text/x-python",
   "name": "python",
   "nbconvert_exporter": "python",
   "pygments_lexer": "ipython3",
   "version": "3.9.15"
  }
 },
 "nbformat": 4,
 "nbformat_minor": 2
}
